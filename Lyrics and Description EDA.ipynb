{
 "cells": [
  {
   "cell_type": "markdown",
   "metadata": {},
   "source": [
    "# ADS 509 Assignment 2.1: Tokenization, Normalization, Descriptive Statistics \n"
   ]
  },
  {
   "cell_type": "code",
   "execution_count": 2,
   "metadata": {},
   "outputs": [],
   "source": [
    "import os\n",
    "import re\n",
    "#!pip install emoji\n",
    "import emoji\n",
    "import pandas as pd\n",
    "import numpy as np\n",
    "\n",
    "from collections import Counter, defaultdict\n",
    "import nltk\n",
    "#nltk.download('stopwords')\n",
    "from nltk.corpus import stopwords\n",
    "from string import punctuation\n",
    "\n",
    "sw = stopwords.words(\"english\")"
   ]
  },
  {
   "cell_type": "code",
   "execution_count": 3,
   "metadata": {},
   "outputs": [
    {
     "name": "stderr",
     "output_type": "stream",
     "text": [
      "[nltk_data] Downloading package stopwords to\n",
      "[nltk_data]     /Users/fatemehkhosravi/nltk_data...\n",
      "[nltk_data]   Package stopwords is already up-to-date!\n"
     ]
    }
   ],
   "source": [
    "# Add any additional import statements you need here\n",
    "\n",
    "#!pip install lexical-diversity\n",
    "from lexical_diversity import lex_div as ld\n",
    "import os\n",
    "import string\n",
    "from nltk.tokenize import word_tokenize\n",
    "nltk.download('stopwords')\n",
    "from nltk.tokenize import word_tokenize\n",
    "#!pip install spacy\n",
    "#!pip install advertools\n",
    "import advertools as adv\n",
    "from operator import itemgetter\n",
    "\n",
    "\n",
    "\n"
   ]
  },
  {
   "cell_type": "code",
   "execution_count": 4,
   "metadata": {},
   "outputs": [],
   "source": [
    "# change `data_location` to the location of the folder on your machine.\n",
    "data_location = \"/Users/fatemehkhosravi/Desktop/Assignment2/\"\n",
    "\n",
    "\n",
    "twitter_folder = \"twitter/\"\n",
    "lyrics_folder = \"lyrics/\""
   ]
  },
  {
   "cell_type": "code",
   "execution_count": 5,
   "metadata": {},
   "outputs": [],
   "source": [
    "def descriptive_stats(tokens, num_tokens = 5, verbose=True) :\n",
    "    \"\"\"\n",
    "        Given a list of tokens, print number of tokens, number of unique tokens, \n",
    "        number of characters, lexical diversity (https://en.wikipedia.org/wiki/Lexical_diversity), \n",
    "        and num_tokens most common tokens. Return a list with the number of tokens, number\n",
    "        of unique tokens, lexical diversity, and number of characters. \n",
    "    \n",
    "    \"\"\"\n",
    "\n",
    "    # Fill in the correct values here. \n",
    "    num_tokens = len(tokens)\n",
    "    \n",
    "    num_unique_tokens = len(Counter(tokens).keys())\n",
    "    \n",
    "    lexical_diversity = ld.ttr(tokens)\n",
    "    \n",
    "    num_characters = 0\n",
    "    for word in tokens:\n",
    "        num_characters+= len(word)\n",
    "    \n",
    "    if verbose :        \n",
    "        print(f\"There are {num_tokens} tokens in the data.\")\n",
    "        print(f\"There are {num_unique_tokens} unique tokens in the data.\")\n",
    "        print(f\"There are {num_characters} characters in the data.\")\n",
    "        print(f\"The lexical diversity is {lexical_diversity:.3f} in the data.\")\n",
    "    \n",
    "        # print the five most common tokens\n",
    "        \n",
    "    return([num_tokens, num_unique_tokens,\n",
    "            lexical_diversity,\n",
    "            num_characters])\n",
    "    "
   ]
  },
  {
   "cell_type": "code",
   "execution_count": 6,
   "metadata": {},
   "outputs": [
    {
     "name": "stdout",
     "output_type": "stream",
     "text": [
      "There are 13 tokens in the data.\n",
      "There are 9 unique tokens in the data.\n",
      "There are 55 characters in the data.\n",
      "The lexical diversity is 0.692 in the data.\n"
     ]
    }
   ],
   "source": [
    "text = \"\"\"here is some example text with other example text here in this text\"\"\".split()\n",
    "assert(descriptive_stats(text, verbose=True)[0] == 13)\n",
    "assert(descriptive_stats(text, verbose=False)[1] == 9)\n",
    "assert(abs(descriptive_stats(text, verbose=False)[2] - 0.69) < 0.02)\n",
    "assert(descriptive_stats(text, verbose=False)[3] == 55)\n"
   ]
  },
  {
   "cell_type": "markdown",
   "metadata": {},
   "source": [
    "Q: Why is it beneficial to use assertion statements in your code? \n",
    "\n",
    "A: Assertion allows us to test our codes when a condition returns true or debug our codes if AssertionError raise. "
   ]
  },
  {
   "cell_type": "markdown",
   "metadata": {},
   "source": [
    "## Data Input\n",
    "\n",
    "Now read in each of the corpora. For the lyrics data, it may be convenient to store the entire contents of the file to make it easier to inspect the titles individually, as you'll do in the last part of the assignment. In the solution, I stored the lyrics data in a dictionary with two dimensions of keys: artist and song. The value was the file contents. A data frame would work equally well. \n",
    "\n",
    "For the Twitter data, we only need the description field for this assignment. Feel free all the descriptions read it into a data structure. In the solution, I stored the descriptions as a dictionary of lists, with the key being the artist. \n",
    "\n",
    "\n"
   ]
  },
  {
   "cell_type": "code",
   "execution_count": 187,
   "metadata": {},
   "outputs": [],
   "source": [
    "# Read in the lyrics data\n",
    "\n",
    "#I had to execute this line in my workspace terminal to remove error. \n",
    "#find . -name \"*.DS_Store\" -type f -delete\n",
    "\n",
    "lyrics_data= {\"artist\":[], \"song\":[],\"lyrics\": []}\n",
    "path1=data_location+lyrics_folder\n",
    "\n",
    "for artist in os.listdir(path1):\n",
    "    for song in os.listdir(os.path.join (path1+artist)):\n",
    "        song_name= song.split(\"_\")[1].split(\".\")[0]\n",
    "        with open (os.path.join(path1+artist, song),'r') as f:\n",
    "            lyric=f.read()\n",
    "        \n",
    "        lyrics_data['artist'].append(artist)\n",
    "        lyrics_data['song'].append(song_name)\n",
    "        lyrics_data['lyrics'].append(lyric)\n",
    "        \n",
    "        \n"
   ]
  },
  {
   "cell_type": "code",
   "execution_count": 188,
   "metadata": {},
   "outputs": [],
   "source": [
    "# Read in the twitter data\n",
    "\n",
    "twitter_files = os.listdir(data_location + twitter_folder)\n",
    "desc_files = [f for f in twitter_files if \"followers_data\" in f]\n",
    "tweets_data= defaultdict(list)\n",
    "for f in desc_files :\n",
    "    artist = f.split(\"_\")[0]\n",
    "        \n",
    "    with open(data_location + twitter_folder + f,'r', encoding='utf8') as infile :\n",
    "        next(infile)\n",
    "        for idx, line in enumerate(infile.readlines()) :\n",
    "            line = line.strip().split(\"\\t\")\n",
    "            if len(line) == 7 :\n",
    "                tweets_data[artist].append(line[6])\n",
    "tweets_data= dict(tweets_data)\n",
    "\n"
   ]
  },
  {
   "cell_type": "markdown",
   "metadata": {},
   "source": [
    "## Data Cleaning\n",
    "\n",
    "Now clean and tokenize your data. Remove punctuation chacters (available in the `punctuation` object in the `string` library), split on whitespace, fold to lowercase, and remove stopwords. Store your cleaned data, which must be accessible as an interable for `descriptive_stats`, in new objects or in new columns in your data frame. \n",
    "\n"
   ]
  },
  {
   "cell_type": "markdown",
   "metadata": {},
   "source": [
    "### Twitter Data "
   ]
  },
  {
   "cell_type": "code",
   "execution_count": 9,
   "metadata": {},
   "outputs": [
    {
     "data": {
      "text/html": [
       "<div>\n",
       "<style scoped>\n",
       "    .dataframe tbody tr th:only-of-type {\n",
       "        vertical-align: middle;\n",
       "    }\n",
       "\n",
       "    .dataframe tbody tr th {\n",
       "        vertical-align: top;\n",
       "    }\n",
       "\n",
       "    .dataframe thead th {\n",
       "        text-align: right;\n",
       "    }\n",
       "</style>\n",
       "<table border=\"1\" class=\"dataframe\">\n",
       "  <thead>\n",
       "    <tr style=\"text-align: right;\">\n",
       "      <th></th>\n",
       "      <th>artist</th>\n",
       "      <th>description</th>\n",
       "    </tr>\n",
       "  </thead>\n",
       "  <tbody>\n",
       "    <tr>\n",
       "      <th>0</th>\n",
       "      <td>cher</td>\n",
       "      <td>𝙿𝚛𝚘𝚞𝚍 𝚜𝚞𝚙𝚙𝚘𝚛𝚝𝚎𝚛 𝚘𝚏 𝚖𝚎𝚜𝚜𝚢 𝚋𝚞𝚗𝚜 &amp; 𝚕𝚎𝚐𝚐𝚒𝚗𝚐𝚜</td>\n",
       "    </tr>\n",
       "    <tr>\n",
       "      <th>1</th>\n",
       "      <td>cher</td>\n",
       "      <td>163㎝／愛かっぷ💜26歳🍒 工〇好きな女の子💓 フォローしてくれたらDMします🧡</td>\n",
       "    </tr>\n",
       "    <tr>\n",
       "      <th>2</th>\n",
       "      <td>cher</td>\n",
       "      <td>csu</td>\n",
       "    </tr>\n",
       "    <tr>\n",
       "      <th>3</th>\n",
       "      <td>cher</td>\n",
       "      <td>Writer @Washinformer @SpelmanCollege alumna #D...</td>\n",
       "    </tr>\n",
       "    <tr>\n",
       "      <th>4</th>\n",
       "      <td>cher</td>\n",
       "      <td>I’m unemployed and live with my parents. MOOPS!</td>\n",
       "    </tr>\n",
       "    <tr>\n",
       "      <th>...</th>\n",
       "      <td>...</td>\n",
       "      <td>...</td>\n",
       "    </tr>\n",
       "    <tr>\n",
       "      <th>2191118</th>\n",
       "      <td>robynkonichiwa</td>\n",
       "      <td>singer of songs, type 1 diabetic, tired $jakel...</td>\n",
       "    </tr>\n",
       "    <tr>\n",
       "      <th>2191119</th>\n",
       "      <td>robynkonichiwa</td>\n",
       "      <td>Dadx2/ Con-Arch/ Photographer/ DK #stemgrønnes...</td>\n",
       "    </tr>\n",
       "    <tr>\n",
       "      <th>2191120</th>\n",
       "      <td>robynkonichiwa</td>\n",
       "      <td>A year to change a life is still a year ✨😌</td>\n",
       "    </tr>\n",
       "    <tr>\n",
       "      <th>2191121</th>\n",
       "      <td>robynkonichiwa</td>\n",
       "      <td>Head of Consumer - Mango. Made in Melbourne. R...</td>\n",
       "    </tr>\n",
       "    <tr>\n",
       "      <th>2191122</th>\n",
       "      <td>robynkonichiwa</td>\n",
       "      <td>Stand for what is right, even if you stand alone.</td>\n",
       "    </tr>\n",
       "  </tbody>\n",
       "</table>\n",
       "<p>2191123 rows × 2 columns</p>\n",
       "</div>"
      ],
      "text/plain": [
       "                 artist                                        description\n",
       "0                  cher           𝙿𝚛𝚘𝚞𝚍 𝚜𝚞𝚙𝚙𝚘𝚛𝚝𝚎𝚛 𝚘𝚏 𝚖𝚎𝚜𝚜𝚢 𝚋𝚞𝚗𝚜 & 𝚕𝚎𝚐𝚐𝚒𝚗𝚐𝚜\n",
       "1                  cher          163㎝／愛かっぷ💜26歳🍒 工〇好きな女の子💓 フォローしてくれたらDMします🧡\n",
       "2                  cher                                                csu\n",
       "3                  cher  Writer @Washinformer @SpelmanCollege alumna #D...\n",
       "4                  cher    I’m unemployed and live with my parents. MOOPS!\n",
       "...                 ...                                                ...\n",
       "2191118  robynkonichiwa  singer of songs, type 1 diabetic, tired $jakel...\n",
       "2191119  robynkonichiwa  Dadx2/ Con-Arch/ Photographer/ DK #stemgrønnes...\n",
       "2191120  robynkonichiwa         A year to change a life is still a year ✨😌\n",
       "2191121  robynkonichiwa  Head of Consumer - Mango. Made in Melbourne. R...\n",
       "2191122  robynkonichiwa  Stand for what is right, even if you stand alone.\n",
       "\n",
       "[2191123 rows x 2 columns]"
      ]
     },
     "execution_count": 9,
     "metadata": {},
     "output_type": "execute_result"
    }
   ],
   "source": [
    "punctuation = set(punctuation) # speeds up comparison\n",
    "\n",
    "# convert dictionary file to dataframe \n",
    "tweets_df= pd.DataFrame(\n",
    "    [(k, val) for k, vals in tweets_data.items() for val in vals], \n",
    "    columns=['artist', 'description']\n",
    ")\n",
    "\n",
    "tweets_df"
   ]
  },
  {
   "cell_type": "code",
   "execution_count": 10,
   "metadata": {},
   "outputs": [],
   "source": [
    "#fold to lowercase \n",
    "tweets_df['lower_description']= tweets_df['description'].apply(lambda x : x.strip().lower())\n",
    "\n",
    "\n",
    "# Remove punctuation characters\n",
    "def re_punctuations(text):\n",
    "       return''.join(ch for ch in text if ch not in punctuation)\n",
    "    \n",
    "tweets_df['no_punctuation'] = tweets_df['lower_description']. apply (re_punctuations)\n",
    "\n",
    "\n",
    "#Split on whitespace\n",
    "tweets_df['no_whitespace']=tweets_df['no_punctuation'].apply(lambda x : x.split())\n",
    "\n",
    "# Remove stopwords\n",
    "tweets_df['clean_text']=tweets_df['no_whitespace'].apply(lambda x: [item for item in x if item not in sw])\n",
    "\n",
    "\n",
    "# drop the useless columns\n",
    "tweets_df.drop(columns=['lower_description','no_punctuation' ,'no_whitespace'], inplace=True)\n",
    "\n"
   ]
  },
  {
   "cell_type": "markdown",
   "metadata": {},
   "source": [
    "### Lyrics Data"
   ]
  },
  {
   "cell_type": "code",
   "execution_count": 12,
   "metadata": {},
   "outputs": [
    {
     "data": {
      "text/html": [
       "<div>\n",
       "<style scoped>\n",
       "    .dataframe tbody tr th:only-of-type {\n",
       "        vertical-align: middle;\n",
       "    }\n",
       "\n",
       "    .dataframe tbody tr th {\n",
       "        vertical-align: top;\n",
       "    }\n",
       "\n",
       "    .dataframe thead th {\n",
       "        text-align: right;\n",
       "    }\n",
       "</style>\n",
       "<table border=\"1\" class=\"dataframe\">\n",
       "  <thead>\n",
       "    <tr style=\"text-align: right;\">\n",
       "      <th></th>\n",
       "      <th>artist</th>\n",
       "      <th>song</th>\n",
       "      <th>lyrics</th>\n",
       "    </tr>\n",
       "  </thead>\n",
       "  <tbody>\n",
       "    <tr>\n",
       "      <th>0</th>\n",
       "      <td>robyn</td>\n",
       "      <td>includemeout</td>\n",
       "      <td>\"Include Me Out\"\\n\\n\\n\\nIt is really very simp...</td>\n",
       "    </tr>\n",
       "    <tr>\n",
       "      <th>1</th>\n",
       "      <td>robyn</td>\n",
       "      <td>electric</td>\n",
       "      <td>\"Electric\"\\n\\n\\n\\nElectric...\\n\\nIt's electric...</td>\n",
       "    </tr>\n",
       "    <tr>\n",
       "      <th>2</th>\n",
       "      <td>robyn</td>\n",
       "      <td>beach2k20</td>\n",
       "      <td>\"Beach 2K20\"\\n\\n\\n\\n(So you wanna go out?\\nHow...</td>\n",
       "    </tr>\n",
       "    <tr>\n",
       "      <th>3</th>\n",
       "      <td>robyn</td>\n",
       "      <td>lovekills</td>\n",
       "      <td>\"Love Kills\"\\n\\n\\n\\nIf you're looking for love...</td>\n",
       "    </tr>\n",
       "    <tr>\n",
       "      <th>4</th>\n",
       "      <td>robyn</td>\n",
       "      <td>timemachine</td>\n",
       "      <td>\"Time Machine\"\\n\\n\\n\\nHey, what did I do?\\nCan...</td>\n",
       "    </tr>\n",
       "    <tr>\n",
       "      <th>...</th>\n",
       "      <td>...</td>\n",
       "      <td>...</td>\n",
       "      <td>...</td>\n",
       "    </tr>\n",
       "    <tr>\n",
       "      <th>415</th>\n",
       "      <td>cher</td>\n",
       "      <td>takeitfromtheboys</td>\n",
       "      <td>\"Take It From The Boys\"\\n\\n\\n\\nSo scared I nev...</td>\n",
       "    </tr>\n",
       "    <tr>\n",
       "      <th>416</th>\n",
       "      <td>cher</td>\n",
       "      <td>dreambaby</td>\n",
       "      <td>\"Dream Baby\"\\n\\n\\n\\nI found the boy for me\\nHe...</td>\n",
       "    </tr>\n",
       "    <tr>\n",
       "      <th>417</th>\n",
       "      <td>cher</td>\n",
       "      <td>pleasedonttellme</td>\n",
       "      <td>\"Please Don't Tell Me\"\\n\\n\\n\\nYa shook the ove...</td>\n",
       "    </tr>\n",
       "    <tr>\n",
       "      <th>418</th>\n",
       "      <td>cher</td>\n",
       "      <td>ihopeyoufindit</td>\n",
       "      <td>\"I Hope You Find It\"\\n\\n\\n\\nThese clouds aren'...</td>\n",
       "    </tr>\n",
       "    <tr>\n",
       "      <th>419</th>\n",
       "      <td>cher</td>\n",
       "      <td>classified1a</td>\n",
       "      <td>\"Classified 1A\"\\n\\n\\n\\nI know now how much I l...</td>\n",
       "    </tr>\n",
       "  </tbody>\n",
       "</table>\n",
       "<p>420 rows × 3 columns</p>\n",
       "</div>"
      ],
      "text/plain": [
       "    artist               song  \\\n",
       "0    robyn       includemeout   \n",
       "1    robyn           electric   \n",
       "2    robyn          beach2k20   \n",
       "3    robyn          lovekills   \n",
       "4    robyn        timemachine   \n",
       "..     ...                ...   \n",
       "415   cher  takeitfromtheboys   \n",
       "416   cher          dreambaby   \n",
       "417   cher   pleasedonttellme   \n",
       "418   cher     ihopeyoufindit   \n",
       "419   cher       classified1a   \n",
       "\n",
       "                                                lyrics  \n",
       "0    \"Include Me Out\"\\n\\n\\n\\nIt is really very simp...  \n",
       "1    \"Electric\"\\n\\n\\n\\nElectric...\\n\\nIt's electric...  \n",
       "2    \"Beach 2K20\"\\n\\n\\n\\n(So you wanna go out?\\nHow...  \n",
       "3    \"Love Kills\"\\n\\n\\n\\nIf you're looking for love...  \n",
       "4    \"Time Machine\"\\n\\n\\n\\nHey, what did I do?\\nCan...  \n",
       "..                                                 ...  \n",
       "415  \"Take It From The Boys\"\\n\\n\\n\\nSo scared I nev...  \n",
       "416  \"Dream Baby\"\\n\\n\\n\\nI found the boy for me\\nHe...  \n",
       "417  \"Please Don't Tell Me\"\\n\\n\\n\\nYa shook the ove...  \n",
       "418  \"I Hope You Find It\"\\n\\n\\n\\nThese clouds aren'...  \n",
       "419  \"Classified 1A\"\\n\\n\\n\\nI know now how much I l...  \n",
       "\n",
       "[420 rows x 3 columns]"
      ]
     },
     "execution_count": 12,
     "metadata": {},
     "output_type": "execute_result"
    }
   ],
   "source": [
    "# convert dictionary file to dataframe \n",
    "lyrics_df=pd.DataFrame.from_dict(lyrics_data)\n",
    "lyrics_df"
   ]
  },
  {
   "cell_type": "code",
   "execution_count": 13,
   "metadata": {
    "scrolled": true
   },
   "outputs": [
    {
     "data": {
      "text/html": [
       "<div>\n",
       "<style scoped>\n",
       "    .dataframe tbody tr th:only-of-type {\n",
       "        vertical-align: middle;\n",
       "    }\n",
       "\n",
       "    .dataframe tbody tr th {\n",
       "        vertical-align: top;\n",
       "    }\n",
       "\n",
       "    .dataframe thead th {\n",
       "        text-align: right;\n",
       "    }\n",
       "</style>\n",
       "<table border=\"1\" class=\"dataframe\">\n",
       "  <thead>\n",
       "    <tr style=\"text-align: right;\">\n",
       "      <th></th>\n",
       "      <th>artist</th>\n",
       "      <th>song</th>\n",
       "      <th>lyrics</th>\n",
       "      <th>clean_text</th>\n",
       "    </tr>\n",
       "  </thead>\n",
       "  <tbody>\n",
       "    <tr>\n",
       "      <th>0</th>\n",
       "      <td>robyn</td>\n",
       "      <td>includemeout</td>\n",
       "      <td>\"Include Me Out\"\\n\\n\\n\\nIt is really very simp...</td>\n",
       "      <td>[include, really, simple, single, pulse, repea...</td>\n",
       "    </tr>\n",
       "    <tr>\n",
       "      <th>1</th>\n",
       "      <td>robyn</td>\n",
       "      <td>electric</td>\n",
       "      <td>\"Electric\"\\n\\n\\n\\nElectric...\\n\\nIt's electric...</td>\n",
       "      <td>[electric, electric, electric, natural, high, ...</td>\n",
       "    </tr>\n",
       "    <tr>\n",
       "      <th>2</th>\n",
       "      <td>robyn</td>\n",
       "      <td>beach2k20</td>\n",
       "      <td>\"Beach 2K20\"\\n\\n\\n\\n(So you wanna go out?\\nHow...</td>\n",
       "      <td>[beach, 2k20, wanna, go, gonna, get, ok, call,...</td>\n",
       "    </tr>\n",
       "    <tr>\n",
       "      <th>3</th>\n",
       "      <td>robyn</td>\n",
       "      <td>lovekills</td>\n",
       "      <td>\"Love Kills\"\\n\\n\\n\\nIf you're looking for love...</td>\n",
       "      <td>[love, kills, youre, looking, love, get, heart...</td>\n",
       "    </tr>\n",
       "    <tr>\n",
       "      <th>4</th>\n",
       "      <td>robyn</td>\n",
       "      <td>timemachine</td>\n",
       "      <td>\"Time Machine\"\\n\\n\\n\\nHey, what did I do?\\nCan...</td>\n",
       "      <td>[time, machine, hey, cant, believe, fit, threw...</td>\n",
       "    </tr>\n",
       "  </tbody>\n",
       "</table>\n",
       "</div>"
      ],
      "text/plain": [
       "  artist          song                                             lyrics  \\\n",
       "0  robyn  includemeout  \"Include Me Out\"\\n\\n\\n\\nIt is really very simp...   \n",
       "1  robyn      electric  \"Electric\"\\n\\n\\n\\nElectric...\\n\\nIt's electric...   \n",
       "2  robyn     beach2k20  \"Beach 2K20\"\\n\\n\\n\\n(So you wanna go out?\\nHow...   \n",
       "3  robyn     lovekills  \"Love Kills\"\\n\\n\\n\\nIf you're looking for love...   \n",
       "4  robyn   timemachine  \"Time Machine\"\\n\\n\\n\\nHey, what did I do?\\nCan...   \n",
       "\n",
       "                                          clean_text  \n",
       "0  [include, really, simple, single, pulse, repea...  \n",
       "1  [electric, electric, electric, natural, high, ...  \n",
       "2  [beach, 2k20, wanna, go, gonna, get, ok, call,...  \n",
       "3  [love, kills, youre, looking, love, get, heart...  \n",
       "4  [time, machine, hey, cant, believe, fit, threw...  "
      ]
     },
     "execution_count": 13,
     "metadata": {},
     "output_type": "execute_result"
    }
   ],
   "source": [
    "#fold to lowercase \n",
    "lyrics_df['lower_lyrics']= lyrics_df['lyrics'].apply(lambda x : x.strip().lower())\n",
    "\n",
    "\n",
    "# Remove punctuation characters\n",
    "def re_punctuations(text):\n",
    "       return''.join(ch for ch in text if ch not in punctuation)\n",
    "    \n",
    "lyrics_df['no_punctuation'] = lyrics_df['lower_lyrics']. apply (re_punctuations)\n",
    "\n",
    "\n",
    "#Split on whitespace\n",
    "lyrics_df['no_whitespace']=lyrics_df['no_punctuation'].apply(lambda x : x.split())\n",
    "\n",
    "# Remove stopwords\n",
    "lyrics_df['clean_text']=lyrics_df['no_whitespace'].apply(lambda x: [item for item in x if item not in sw])\n",
    "\n",
    "\n",
    "# drop the useless columns\n",
    "lyrics_df.drop(columns=['lower_lyrics','no_punctuation' ,'no_whitespace'], inplace=True)\n",
    "\n",
    "lyrics_df.head()"
   ]
  },
  {
   "cell_type": "markdown",
   "metadata": {},
   "source": [
    "## Basic Descriptive Statistics\n",
    "\n",
    "Call your `descriptive_stats` function on both your lyrics data and your twitter data and for both artists (four total calls). "
   ]
  },
  {
   "cell_type": "code",
   "execution_count": 14,
   "metadata": {},
   "outputs": [
    {
     "name": "stdout",
     "output_type": "stream",
     "text": [
      "cher tweet:\n",
      "There are 2001090 tokens in the data.\n",
      "There are 1797531 unique tokens in the data.\n",
      "There are 106635955 characters in the data.\n",
      "The lexical diversity is 0.898 in the data.\n"
     ]
    }
   ],
   "source": [
    "#cher tweet\n",
    "\n",
    "tweets_cher=tweets_df.loc[tweets_df['artist']=='cher']\n",
    "\n",
    "# convert list of elements to string object\n",
    "description_cher=list(tweets_cher['clean_text'])\n",
    "\n",
    "description_cher_str=[]\n",
    "counter=0\n",
    "for text in description_cher:\n",
    "    myString = \" \".join(description_cher[counter])\n",
    "    description_cher_str.append(myString)\n",
    "    counter+=1\n",
    "\n",
    "print('cher tweet:')\n",
    "\n",
    "assert(descriptive_stats(description_cher_str, verbose=True))\n",
    "\n"
   ]
  },
  {
   "cell_type": "code",
   "execution_count": 15,
   "metadata": {},
   "outputs": [
    {
     "name": "stdout",
     "output_type": "stream",
     "text": [
      "robyn tweet:\n",
      "There are 190033 tokens in the data.\n",
      "There are 180322 unique tokens in the data.\n",
      "There are 10434591 characters in the data.\n",
      "The lexical diversity is 0.949 in the data.\n"
     ]
    }
   ],
   "source": [
    "#robyn tweet\n",
    "\n",
    "tweets_robyn=tweets_df.loc[tweets_df['artist']=='robynkonichiwa']\n",
    "\n",
    "# convert list of elements to string object\n",
    "description_robyn=list(tweets_robyn['clean_text'])\n",
    "\n",
    "description_robyn_str=[]\n",
    "counter=0\n",
    "for text in description_robyn:\n",
    "    myString = \" \".join(description_robyn[counter])\n",
    "    description_robyn_str.append(myString)\n",
    "    counter+=1\n",
    "\n",
    "print('robyn tweet:')\n",
    "\n",
    "assert(descriptive_stats(description_robyn_str, verbose=True))"
   ]
  },
  {
   "cell_type": "code",
   "execution_count": 16,
   "metadata": {},
   "outputs": [
    {
     "name": "stdout",
     "output_type": "stream",
     "text": [
      "There are 35916 tokens in the data.\n",
      "There are 3703 unique tokens in the data.\n",
      "There are 172634 characters in the data.\n",
      "The lexical diversity is 0.103 in the data.\n"
     ]
    }
   ],
   "source": [
    "#cher lyrics\n",
    "\n",
    "song_cher=lyrics_df.loc[lyrics_df['artist']=='cher']\n",
    "song_cher=list(song_cher['clean_text'])\n",
    "\n",
    "# convert nested list to a flat list\n",
    "flat_list_cher = [element for innerList in song_cher for element in innerList]\n",
    "\n",
    "assert(descriptive_stats(flat_list_cher, verbose=True))\n"
   ]
  },
  {
   "cell_type": "code",
   "execution_count": 17,
   "metadata": {},
   "outputs": [
    {
     "name": "stdout",
     "output_type": "stream",
     "text": [
      "There are 15227 tokens in the data.\n",
      "There are 2156 unique tokens in the data.\n",
      "There are 73787 characters in the data.\n",
      "The lexical diversity is 0.142 in the data.\n"
     ]
    }
   ],
   "source": [
    "# robyn lyrics\n",
    "\n",
    "song_robyn=lyrics_df.loc[lyrics_df['artist']=='robyn']\n",
    "song_robyn=list(song_robyn['clean_text'])\n",
    "\n",
    "# convert nested list to a flat list\n",
    "flat_list_robyn = [element for innerList in song_robyn for element in innerList]\n",
    "\n",
    "assert(descriptive_stats(flat_list_robyn, verbose=True))"
   ]
  },
  {
   "cell_type": "markdown",
   "metadata": {},
   "source": [
    "Q: How do you think the \"top 5 words\" would be different if we left stopwords in the data? \n",
    "\n",
    "A: Since the frequency of stopwords in sentences is usually high, obtaining important information from these words does not give us much information. I think that when we left stopwords in the data, it is more likely that the top 5 words would be from stopwords. \n",
    "\n",
    "---\n",
    "\n",
    "Q: What were your prior beliefs about the lexical diversity between the artists? Does the difference (or lack thereof) in lexical diversity between the artists conform to your prior beliefs? \n",
    "\n",
    "A: Lexical diversity for Cher’s lyrics is about 0.103 and for Robyn is about 0.142. Higher value means that the lyrics contain many different word types while lower value of lexical diversity refers to the repeated words or phrases. I am not familiar with Robyn’s songs, but I know Cher’s songs are usually similar to each other, simple and easy to memorize. 0.103 also proves my assumption about Cher's songs.\n"
   ]
  },
  {
   "cell_type": "markdown",
   "metadata": {},
   "source": [
    "\n",
    "## Specialty Statistics\n",
    "\n",
    "The descriptive statistics we have calculated are quite generic. You will now calculate a handful of statistics tailored to these data.\n",
    "\n",
    "1. Ten most common emojis by artist in the twitter descriptions.\n",
    "1. Ten most common hashtags by artist in the twitter descriptions.\n",
    "1. Five most common words in song titles by artist. \n",
    "1. For each artist, a histogram of song lengths (in terms of number of tokens) \n",
    "\n",
    "We can use the `emoji` library to help us identify emojis and you have been given a function to help you.\n"
   ]
  },
  {
   "cell_type": "code",
   "execution_count": 26,
   "metadata": {},
   "outputs": [],
   "source": [
    "assert(emoji.is_emoji(\"❤️\"))\n",
    "assert(not emoji.is_emoji(\":-)\"))"
   ]
  },
  {
   "cell_type": "markdown",
   "metadata": {},
   "source": [
    "### Emojis 😁\n",
    "\n",
    "What are the ten most common emojis by artist in the twitter descriptions?  "
   ]
  },
  {
   "cell_type": "code",
   "execution_count": 51,
   "metadata": {},
   "outputs": [
    {
     "data": {
      "text/plain": [
       "[('🏳️\\u200d🌈', 3249),\n",
       " ('❤️', 2887),\n",
       " ('♥', 2886),\n",
       " ('✨', 2223),\n",
       " ('❤', 1771),\n",
       " ('🌈', 1417),\n",
       " ('💙', 809),\n",
       " ('💜', 739),\n",
       " ('🎶', 710),\n",
       " ('🖤', 615)]"
      ]
     },
     "execution_count": 51,
     "metadata": {},
     "output_type": "execute_result"
    }
   ],
   "source": [
    "#robyn emogies\n",
    "\n",
    "emoji_robyn=tweets_df.loc[tweets_df['artist']=='robynkonichiwa','description']\n",
    "emoji_robyn=list(emoji_robyn)\n",
    "emoji_summary = adv.extract_emoji(emoji_robyn)\n",
    "\n",
    "# top 10 emojies \n",
    "emoji_summary['top_emoji'][0:10]\n"
   ]
  },
  {
   "cell_type": "code",
   "execution_count": 52,
   "metadata": {},
   "outputs": [
    {
     "data": {
      "text/plain": [
       "[('❤️', 45799),\n",
       " ('❤', 31788),\n",
       " ('🏳️\\u200d🌈', 30454),\n",
       " ('✨', 29468),\n",
       " ('♥', 28401),\n",
       " ('💙', 21379),\n",
       " ('🌊', 20223),\n",
       " ('🌈', 16898),\n",
       " ('💜', 16550),\n",
       " ('🇺🇸', 14686)]"
      ]
     },
     "execution_count": 52,
     "metadata": {},
     "output_type": "execute_result"
    }
   ],
   "source": [
    "#cher emogies\n",
    "\n",
    "emoji_cher=tweets_df.loc[tweets_df['artist']=='cher','description']\n",
    "emoji_cher=list(emoji_cher)\n",
    "emoji_summary = adv.extract_emoji(emoji_cher)\n",
    "\n",
    "# top 10 emojies \n",
    "emoji_summary['top_emoji'][0:10]"
   ]
  },
  {
   "cell_type": "markdown",
   "metadata": {},
   "source": [
    "### Hashtags\n",
    "\n",
    "What are the ten most common hashtags by artist in the twitter descriptions? \n"
   ]
  },
  {
   "cell_type": "code",
   "execution_count": 75,
   "metadata": {},
   "outputs": [
    {
     "data": {
      "text/plain": [
       "{'BlackLivesMatter': 337,\n",
       " 'BLM': 306,\n",
       " 'blacklivesmatter': 208,\n",
       " '1': 199,\n",
       " 'music': 174,\n",
       " 'Music': 113,\n",
       " 'EDM': 86,\n",
       " 'LGBTQ': 75,\n",
       " 'TeamFollowBack': 59,\n",
       " 'blm': 56}"
      ]
     },
     "execution_count": 75,
     "metadata": {},
     "output_type": "execute_result"
    }
   ],
   "source": [
    "# robyn hashtags\n",
    "\n",
    "count_hashtag = Counter()\n",
    "for element in emoji_robyn:\n",
    "    for hashtags in re.findall('#(\\w+)', element):\n",
    "        count_hashtag[hashtags] += 1\n",
    "\n",
    "top10_hashtag = dict(sorted(count_hashtag.items(), key=itemgetter(1), reverse=True)[:10])\n",
    "top10_hashtag"
   ]
  },
  {
   "cell_type": "code",
   "execution_count": 76,
   "metadata": {},
   "outputs": [
    {
     "data": {
      "text/plain": [
       "{'BLM': 9535,\n",
       " 'Resist': 6036,\n",
       " 'BlackLivesMatter': 4681,\n",
       " 'resist': 3797,\n",
       " 'FBR': 3239,\n",
       " 'TheResistance': 2995,\n",
       " 'blacklivesmatter': 2645,\n",
       " '1': 2627,\n",
       " 'Resistance': 1919,\n",
       " 'RESIST': 1823}"
      ]
     },
     "execution_count": 76,
     "metadata": {},
     "output_type": "execute_result"
    }
   ],
   "source": [
    "# cher hashtags\n",
    "\n",
    "count_hashtag = Counter()\n",
    "for element in emoji_cher:\n",
    "    for hashtags in re.findall('#(\\w+)', element):\n",
    "        count_hashtag[hashtags] += 1\n",
    "\n",
    "top10_hashtag = dict(sorted(count_hashtag.items(), key=itemgetter(1), reverse=True)[:10])\n",
    "top10_hashtag\n"
   ]
  },
  {
   "cell_type": "markdown",
   "metadata": {},
   "source": [
    "### Song Titles\n",
    "\n",
    "What are the five most common words in song titles by artist? The song titles should be on the first line of the lyrics pages, so if you have kept the raw file contents around, you will not need to re-read the data.\n"
   ]
  },
  {
   "cell_type": "code",
   "execution_count": 219,
   "metadata": {},
   "outputs": [
    {
     "name": "stdout",
     "output_type": "stream",
     "text": [
      "love: 6\n",
      "hang: 3\n",
      "girl: 3\n",
      "kills: 2\n",
      "time: 2\n"
     ]
    }
   ],
   "source": [
    "# robyn title\n",
    "\n",
    "robyn_title=lyrics_df.loc[lyrics_df['artist']=='robyn','lyrics']\n",
    "robyn_title=list(robyn_title)\n",
    "\n",
    "\n",
    "song_title=[]\n",
    "counter=0\n",
    "for i in robyn_title:\n",
    "    title=i.split('\\n')[0]\n",
    "    song_title.append(title)\n",
    "    counter+=1\n",
    "    \n",
    "\n",
    "song_title=str(song_title)\n",
    "t1=re.sub( ' \"  ','' ,song_title)\n",
    "t2=re_punctuations(t1)\n",
    "t3=t2.lower()\n",
    "t4=t3.split()\n",
    "t5= [word for word in t4 if not word in stopwords.words()]\n",
    "\n",
    "\n",
    "# top 5 words\n",
    "frequency={}\n",
    "for item in t5:\n",
    "   # checking the element in dictionary\n",
    "   if item in frequency:\n",
    "      # incrementing the counr\n",
    "      frequency[item] += 1\n",
    "   else:\n",
    "      # initializing the count\n",
    "      frequency[item] = 1\n",
    "    \n",
    "\n",
    "for key, value in sorted(frequency.items(), key=lambda kv: kv[1], reverse=True)[:5]:\n",
    "   print(\"%s: %s\" % (key, value))"
   ]
  },
  {
   "cell_type": "code",
   "execution_count": 220,
   "metadata": {},
   "outputs": [
    {
     "name": "stdout",
     "output_type": "stream",
     "text": [
      "love: 38\n",
      "song: 11\n",
      "believe: 6\n",
      "time: 6\n",
      "heart: 6\n"
     ]
    }
   ],
   "source": [
    "# cher title\n",
    "\n",
    "cher_title=lyrics_df.loc[lyrics_df['artist']=='cher','lyrics']\n",
    "cher_title=list(cher_title)\n",
    "\n",
    "\n",
    "song_title=[]\n",
    "counter=0\n",
    "for i in cher_title:\n",
    "    title=i.split('\\n')[0]\n",
    "    song_title.append(title)\n",
    "    counter+=1\n",
    "    \n",
    "\n",
    "song_title=str(song_title)\n",
    "t1=re.sub( ' \"  ','' ,song_title)\n",
    "t2=re_punctuations(t1)\n",
    "t3=t2.lower()\n",
    "t4=t3.split()\n",
    "t5= [word for word in t4 if not word in stopwords.words()]\n",
    "\n",
    "\n",
    "# top 5 words\n",
    "frequency={}\n",
    "for item in t5:\n",
    "   # checking the element in dictionary\n",
    "   if item in frequency:\n",
    "      # incrementing the counr\n",
    "      frequency[item] += 1\n",
    "   else:\n",
    "      # initializing the count\n",
    "      frequency[item] = 1\n",
    "    \n",
    "\n",
    "for key, value in sorted(frequency.items(), key=lambda kv: kv[1], reverse=True)[:5]:\n",
    "     print(\"%s: %s\" % (key, value))"
   ]
  },
  {
   "cell_type": "markdown",
   "metadata": {},
   "source": [
    "### Song Lengths\n",
    "\n",
    "For each artist, a histogram of song lengths (in terms of number of tokens). If you put the song lengths in a data frame with an artist column, matplotlib will make the plotting quite easy. An example is given to help you out. \n"
   ]
  },
  {
   "cell_type": "code",
   "execution_count": 77,
   "metadata": {},
   "outputs": [
    {
     "data": {
      "text/plain": [
       "artist\n",
       "Artist 1    AxesSubplot(0.125,0.125;0.775x0.755)\n",
       "Artist 2    AxesSubplot(0.125,0.125;0.775x0.755)\n",
       "Name: length, dtype: object"
      ]
     },
     "execution_count": 77,
     "metadata": {},
     "output_type": "execute_result"
    },
    {
     "data": {
      "image/png": "[encoded data removed]",
      "text/plain": [
       "<Figure size 432x288 with 1 Axes>"
      ]
     },
     "metadata": {
      "needs_background": "light"
     },
     "output_type": "display_data"
    }
   ],
   "source": [
    "num_replicates = 1000\n",
    "\n",
    "df = pd.DataFrame({\n",
    "    \"artist\" : ['Artist 1'] * num_replicates + ['Artist 2']*num_replicates,\n",
    "    \"length\" : np.concatenate((np.random.poisson(125,num_replicates),np.random.poisson(150,num_replicates)))\n",
    "})\n",
    "\n",
    "df.groupby('artist')['length'].plot(kind=\"hist\",density=True,alpha=0.5,legend=True)"
   ]
  },
  {
   "cell_type": "markdown",
   "metadata": {},
   "source": [
    "Since the lyrics may be stored with carriage returns or tabs, it may be useful to have a function that can collapse whitespace, using regular expressions, and be used for splitting. \n",
    "\n",
    "Q: What does the regular expression `'\\s+'` match on? \n",
    "\n",
    "A:  \\s+ will match one or more whitespace characters.\n"
   ]
  },
  {
   "cell_type": "code",
   "execution_count": 177,
   "metadata": {},
   "outputs": [],
   "source": [
    "collapse_whitespace = re.compile(r'\\s+')\n",
    "\n",
    "def tokenize_lyrics(lyric) : \n",
    "    \"\"\"strip and split on whitespace\"\"\"\n",
    "    return([item.lower() for item in collapse_whitespace.split(lyric)])"
   ]
  },
  {
   "cell_type": "code",
   "execution_count": 184,
   "metadata": {},
   "outputs": [
    {
     "data": {
      "text/html": [
       "<div>\n",
       "<style scoped>\n",
       "    .dataframe tbody tr th:only-of-type {\n",
       "        vertical-align: middle;\n",
       "    }\n",
       "\n",
       "    .dataframe tbody tr th {\n",
       "        vertical-align: top;\n",
       "    }\n",
       "\n",
       "    .dataframe thead th {\n",
       "        text-align: right;\n",
       "    }\n",
       "</style>\n",
       "<table border=\"1\" class=\"dataframe\">\n",
       "  <thead>\n",
       "    <tr style=\"text-align: right;\">\n",
       "      <th></th>\n",
       "      <th>artist</th>\n",
       "      <th>song</th>\n",
       "      <th>lyrics</th>\n",
       "      <th>clean_text</th>\n",
       "      <th>length</th>\n",
       "    </tr>\n",
       "  </thead>\n",
       "  <tbody>\n",
       "    <tr>\n",
       "      <th>0</th>\n",
       "      <td>robyn</td>\n",
       "      <td>includemeout</td>\n",
       "      <td>\"Include Me Out\"\\n\\n\\n\\nIt is really very simp...</td>\n",
       "      <td>[include, really, simple, single, pulse, repea...</td>\n",
       "      <td>234</td>\n",
       "    </tr>\n",
       "    <tr>\n",
       "      <th>1</th>\n",
       "      <td>robyn</td>\n",
       "      <td>electric</td>\n",
       "      <td>\"Electric\"\\n\\n\\n\\nElectric...\\n\\nIt's electric...</td>\n",
       "      <td>[electric, electric, electric, natural, high, ...</td>\n",
       "      <td>153</td>\n",
       "    </tr>\n",
       "    <tr>\n",
       "      <th>2</th>\n",
       "      <td>robyn</td>\n",
       "      <td>beach2k20</td>\n",
       "      <td>\"Beach 2K20\"\\n\\n\\n\\n(So you wanna go out?\\nHow...</td>\n",
       "      <td>[beach, 2k20, wanna, go, gonna, get, ok, call,...</td>\n",
       "      <td>174</td>\n",
       "    </tr>\n",
       "    <tr>\n",
       "      <th>3</th>\n",
       "      <td>robyn</td>\n",
       "      <td>lovekills</td>\n",
       "      <td>\"Love Kills\"\\n\\n\\n\\nIf you're looking for love...</td>\n",
       "      <td>[love, kills, youre, looking, love, get, heart...</td>\n",
       "      <td>246</td>\n",
       "    </tr>\n",
       "    <tr>\n",
       "      <th>4</th>\n",
       "      <td>robyn</td>\n",
       "      <td>timemachine</td>\n",
       "      <td>\"Time Machine\"\\n\\n\\n\\nHey, what did I do?\\nCan...</td>\n",
       "      <td>[time, machine, hey, cant, believe, fit, threw...</td>\n",
       "      <td>129</td>\n",
       "    </tr>\n",
       "  </tbody>\n",
       "</table>\n",
       "</div>"
      ],
      "text/plain": [
       "  artist          song                                             lyrics  \\\n",
       "0  robyn  includemeout  \"Include Me Out\"\\n\\n\\n\\nIt is really very simp...   \n",
       "1  robyn      electric  \"Electric\"\\n\\n\\n\\nElectric...\\n\\nIt's electric...   \n",
       "2  robyn     beach2k20  \"Beach 2K20\"\\n\\n\\n\\n(So you wanna go out?\\nHow...   \n",
       "3  robyn     lovekills  \"Love Kills\"\\n\\n\\n\\nIf you're looking for love...   \n",
       "4  robyn   timemachine  \"Time Machine\"\\n\\n\\n\\nHey, what did I do?\\nCan...   \n",
       "\n",
       "                                          clean_text  length  \n",
       "0  [include, really, simple, single, pulse, repea...     234  \n",
       "1  [electric, electric, electric, natural, high, ...     153  \n",
       "2  [beach, 2k20, wanna, go, gonna, get, ok, call,...     174  \n",
       "3  [love, kills, youre, looking, love, get, heart...     246  \n",
       "4  [time, machine, hey, cant, believe, fit, threw...     129  "
      ]
     },
     "execution_count": 184,
     "metadata": {},
     "output_type": "execute_result"
    }
   ],
   "source": [
    "# lyric length comparison chart \n",
    "\n",
    "lyrics_df['length'] = lyrics_df['clean_text'].map(len)\n",
    "lyrics_df.head()"
   ]
  },
  {
   "cell_type": "code",
   "execution_count": 185,
   "metadata": {},
   "outputs": [
    {
     "data": {
      "text/plain": [
       "artist\n",
       "cher     AxesSubplot(0.125,0.125;0.775x0.755)\n",
       "robyn    AxesSubplot(0.125,0.125;0.775x0.755)\n",
       "Name: length, dtype: object"
      ]
     },
     "execution_count": 185,
     "metadata": {},
     "output_type": "execute_result"
    },
    {
     "data": {
      "image/png": "[encoded data removed]",
      "text/plain": [
       "<Figure size 432x288 with 1 Axes>"
      ]
     },
     "metadata": {
      "needs_background": "light"
     },
     "output_type": "display_data"
    }
   ],
   "source": [
    "lyrics_df.groupby('artist')['length'].plot(kind=\"hist\",density=True,alpha=0.5,legend=True)"
   ]
  },
  {
   "cell_type": "markdown",
   "metadata": {},
   "source": [
    "### References:\n",
    "https://stackoverflow.com/questions/58485274/function-to-count-hashtags \n",
    "\n",
    "\n",
    "https://able.bio/rhett/sort-a-python-dictionary-by-value-or-key--84te6gv\n"
   ]
  }
 ],
 "metadata": {
  "kernelspec": {
   "display_name": "Python 3",
   "language": "python",
   "name": "python3"
  },
  "language_info": {
   "codemirror_mode": {
    "name": "ipython",
    "version": 3
   },
   "file_extension": ".py",
   "mimetype": "text/x-python",
   "name": "python",
   "nbconvert_exporter": "python",
   "pygments_lexer": "ipython3",
   "version": "3.8.5"
  }
 },
 "nbformat": 4,
 "nbformat_minor": 5
}
